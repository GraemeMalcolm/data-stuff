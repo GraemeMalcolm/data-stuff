{
  "cells": [
    {
      "cell_type": "markdown",
      "source": [
        "# Spark Structured Streaming and Delta Tables\r\n",
        "\r\n",
        "Spark provides support for streaming data through *Spark Structured Streaming* and extends this support through *delta tables* that can be targets (*sinks*) or *sources* of streaming data.\r\n",
        "\r\n",
        "In this exercise, you'll use Spark to ingest a stream of data from a folder of JSON files that consists of simulated status messages from devices. In a real scenario, the data could come from some other real-time source, such as a Kafka queue or an Azure Event Hub.\r\n",
        "\r\n",
        "## Create a folder for the incoming stream of data\r\n",
        "\r\n",
        "1. Ensure this notebook is attached to your Spark pool (using this **Attach to** drop-down list above).\r\n",
        "2. Run the cell below to create a folder named **data** to which the simulated device data will be written.\r\n",
        "\r\n",
        "    > **Note**: The first cell may take some time to run because the Spark pool must be started.\r\n"
      ],
      "metadata": {
        "nteract": {
          "transient": {
            "deleting": false
          }
        }
      }
    },
    {
      "cell_type": "code",
      "source": [
        "from notebookutils import mssparkutils\r\n",
        "\r\n",
        "# Create a folder\r\n",
        "inputPath = '/data/'\r\n",
        "mssparkutils.fs.mkdirs(inputPath)"
      ],
      "outputs": [],
      "execution_count": null,
      "metadata": {
        "jupyter": {
          "source_hidden": false,
          "outputs_hidden": false
        },
        "nteract": {
          "transient": {
            "deleting": false
          }
        }
      }
    },
    {
      "cell_type": "markdown",
      "source": [
        "## Use Spark Structured Streaming to query a stream of data\r\n",
        "\r\n",
        "1. Run the cell below to create a streaming dataframe that reads data from the folder based on a JSON schema that includes the name of the device and its status."
      ],
      "metadata": {
        "nteract": {
          "transient": {
            "deleting": false
          }
        }
      }
    },
    {
      "cell_type": "code",
      "source": [
        "from pyspark.sql.types import *\r\n",
        "from pyspark.sql.functions import *\r\n",
        "\r\n",
        "# Create a stream that reads data from the folder, using a JSON schema\r\n",
        "jsonSchema = StructType([\r\n",
        "  StructField(\"device\", StringType(), False),\r\n",
        "  StructField(\"status\", StringType(), False)\r\n",
        "])\r\n",
        "\r\n",
        "fileDF = spark.readStream.schema(jsonSchema).option(\"maxFilesPerTrigger\", 1).json(inputPath)\r\n",
        "\r\n"
      ],
      "outputs": [],
      "execution_count": null,
      "metadata": {
        "microsoft": {},
        "collapsed": false
      }
    },
    {
      "cell_type": "markdown",
      "source": [
        "2. Wait for the cell above to complete.\r\n",
        "3. When the streaming dataframe has been created, you can apply a transformation query to aggregate the data and write the results to an output stream. Run the following code to filter the incoming stream for errors in the device data, and count the number of errors per device."
      ],
      "metadata": {
        "nteract": {
          "transient": {
            "deleting": false
          }
        }
      }
    },
    {
      "cell_type": "code",
      "source": [
        "countDF = fileDF.filter(\"status == 'error'\").groupBy(\"device\").count()\r\n",
        "query = countDF.writeStream.format(\"memory\").queryName(\"counts\").outputMode(\"complete\").start()\r\n",
        "print('Streaming query started.')"
      ],
      "outputs": [],
      "execution_count": null,
      "metadata": {
        "jupyter": {
          "source_hidden": false,
          "outputs_hidden": false
        },
        "nteract": {
          "transient": {
            "deleting": false
          }
        }
      }
    },
    {
      "cell_type": "markdown",
      "source": [
        "4. The query output is streamed to an in-memory table. Tun the cell below to use SQL to query this table and veiw the number of errors per device."
      ],
      "metadata": {
        "nteract": {
          "transient": {
            "deleting": false
          }
        }
      }
    },
    {
      "cell_type": "code",
      "source": [
        "%%sql\r\n",
        "select * from counts\r\n"
      ],
      "outputs": [],
      "execution_count": null,
      "metadata": {
        "jupyter": {
          "source_hidden": false,
          "outputs_hidden": false
        },
        "nteract": {
          "transient": {
            "deleting": false
          }
        },
        "microsoft": {
          "language": "sparksql"
        },
        "collapsed": false
      }
    },
    {
      "cell_type": "markdown",
      "source": [
        "5. Note that the query returns no data, because we haven't written any device status data there yet.\r\n",
        "6. Let's fix that by writing some status event data from a couple of simulated devices."
      ],
      "metadata": {
        "nteract": {
          "transient": {
            "deleting": false
          }
        }
      }
    },
    {
      "cell_type": "code",
      "source": [
        "device_data = '''{\"device\":\"Dev1\",\"status\":\"ok\"}\r\n",
        "{\"device\":\"Dev1\",\"status\":\"ok\"}\r\n",
        "{\"device\":\"Dev1\",\"status\":\"ok\"}\r\n",
        "{\"device\":\"Dev2\",\"status\":\"error\"}\r\n",
        "{\"device\":\"Dev1\",\"status\":\"ok\"}\r\n",
        "{\"device\":\"Dev1\",\"status\":\"error\"}\r\n",
        "{\"device\":\"Dev2\",\"status\":\"ok\"}\r\n",
        "{\"device\":\"Dev2\",\"status\":\"error\"}\r\n",
        "{\"device\":\"Dev1\",\"status\":\"ok\"}'''\r\n",
        "\r\n",
        "mssparkutils.fs.put(inputPath + \"data.txt\", device_data, True)"
      ],
      "outputs": [],
      "execution_count": null,
      "metadata": {
        "jupyter": {
          "source_hidden": false,
          "outputs_hidden": false
        },
        "nteract": {
          "transient": {
            "deleting": false
          }
        }
      }
    },
    {
      "cell_type": "markdown",
      "source": [
        "7. Run the SQL query again to see the aggregated error counts (if the query still returns no data, wait a few seconds and try again!) There should be one error for device 1, and two errors for device 2."
      ],
      "metadata": {
        "nteract": {
          "transient": {
            "deleting": false
          }
        }
      }
    },
    {
      "cell_type": "code",
      "source": [
        "%%sql\r\n",
        "select * from counts\r\n"
      ],
      "outputs": [],
      "execution_count": null,
      "metadata": {
        "jupyter": {
          "source_hidden": false,
          "outputs_hidden": false
        },
        "nteract": {
          "transient": {
            "deleting": false
          }
        },
        "microsoft": {
          "language": "sparksql"
        },
        "collapsed": false
      }
    },
    {
      "cell_type": "markdown",
      "source": [
        "8. Review the results, noting the number of errors. Then run the following code to write more device data."
      ],
      "metadata": {
        "nteract": {
          "transient": {
            "deleting": false
          }
        }
      }
    },
    {
      "cell_type": "code",
      "source": [
        "more_data = '''{\"device\":\"Dev1\",\"status\":\"ok\"}\r\n",
        "{\"device\":\"Dev1\",\"status\":\"ok\"}\r\n",
        "{\"device\":\"Dev1\",\"status\":\"ok\"}\r\n",
        "{\"device\":\"Dev1\",\"status\":\"ok\"}\r\n",
        "{\"device\":\"Dev1\",\"status\":\"error\"}\r\n",
        "{\"device\":\"Dev2\",\"status\":\"error\"}\r\n",
        "{\"device\":\"Dev1\",\"status\":\"ok\"}'''\r\n",
        "\r\n",
        "mssparkutils.fs.put(inputPath + \"more-data.txt\", more_data, True)"
      ],
      "outputs": [],
      "execution_count": null,
      "metadata": {
        "jupyter": {
          "source_hidden": false,
          "outputs_hidden": false
        },
        "nteract": {
          "transient": {
            "deleting": false
          }
        }
      }
    },
    {
      "cell_type": "markdown",
      "source": [
        "9. Run the SQL query again (waiting a few seconds if necessary) to see the new status events reflected in the aggregations. There should now be two errors for device 1, and three errors for device 2."
      ],
      "metadata": {
        "nteract": {
          "transient": {
            "deleting": false
          }
        }
      }
    },
    {
      "cell_type": "code",
      "source": [
        "%%sql\r\n",
        "select * from counts\r\n"
      ],
      "outputs": [],
      "execution_count": null,
      "metadata": {
        "jupyter": {
          "source_hidden": false,
          "outputs_hidden": false
        },
        "nteract": {
          "transient": {
            "deleting": false
          }
        },
        "microsoft": {
          "language": "sparksql"
        },
        "collapsed": false
      }
    },
    {
      "cell_type": "markdown",
      "source": [
        "## Create a delta table\r\n",
        "\r\n",
        "Azure Synapse Analytics supports the Linux Foundation *Delta Lake* architecture, which builds on Spark Structured Streaming to add support for transactions, versioning, and other useful capabilities.\r\n",
        "\r\n",
        "In particular, you can create *delta tables* as a target (or *sink*) for streaming data, or as a *source* of streaming data for downstream queries.\r\n",
        "\r\n",
        "To explore this, we'll write the streaming dataframe based on the **data** folder we created previously to a new delta table, which we'll define using a path to a location in the file system.\r\n",
        "\r\n",
        "1. Run the cell below to stream the folder data to a delta table."
      ],
      "metadata": {
        "nteract": {
          "transient": {
            "deleting": false
          }
        }
      }
    },
    {
      "cell_type": "code",
      "source": [
        "delta_table_path = inputPath + 'deltatable'\r\n",
        "stream = fileDF.writeStream.format(\"delta\").option(\"checkpointLocation\", inputPath + 'checkpoint').start(delta_table_path)"
      ],
      "outputs": [],
      "execution_count": null,
      "metadata": {
        "jupyter": {
          "source_hidden": false,
          "outputs_hidden": false
        },
        "nteract": {
          "transient": {
            "deleting": false
          }
        }
      }
    },
    {
      "cell_type": "markdown",
      "source": [
        "2. Now run the next cell to query the delta table to see the data that has been streamed to it. If at first the query returns no data, wait a few seconds and run the cell again)."
      ],
      "metadata": {
        "nteract": {
          "transient": {
            "deleting": false
          }
        }
      }
    },
    {
      "cell_type": "code",
      "source": [
        "df = spark.read.format(\"delta\").load(delta_table_path)\r\n",
        "display(df)"
      ],
      "outputs": [],
      "execution_count": null,
      "metadata": {
        "jupyter": {
          "source_hidden": false,
          "outputs_hidden": false
        },
        "nteract": {
          "transient": {
            "deleting": false
          }
        },
        "collapsed": false
      }
    },
    {
      "cell_type": "markdown",
      "source": [
        "Delta tables enable you to use a feature named *time travel* to view the data at a previous point in time.\r\n",
        "\r\n",
        "4. Run the following query to retrieve the initial micro-batch of data that was streamed from the **devdata.txt** file. "
      ],
      "metadata": {
        "nteract": {
          "transient": {
            "deleting": false
          }
        }
      }
    },
    {
      "cell_type": "code",
      "source": [
        "df = spark.read.format(\"delta\").option(\"versionAsOf\", 0).load(delta_table_path)\r\n",
        "display(df)"
      ],
      "outputs": [],
      "execution_count": null,
      "metadata": {
        "jupyter": {
          "source_hidden": false,
          "outputs_hidden": false
        },
        "nteract": {
          "transient": {
            "deleting": false
          }
        },
        "collapsed": false
      }
    },
    {
      "cell_type": "markdown",
      "source": [
        "5. Now that you've finished exploring Spark Structured Streaming and delta tables, stop the stream of data and clean up the files used in this exercise."
      ],
      "metadata": {
        "nteract": {
          "transient": {
            "deleting": false
          }
        }
      }
    },
    {
      "cell_type": "code",
      "source": [
        "stream.stop()\r\n",
        "query.stop()\r\n",
        "print(\"Stream stopped\")\r\n",
        "mssparkutils.fs.rm(inputPath, True)"
      ],
      "outputs": [],
      "execution_count": null,
      "metadata": {
        "jupyter": {
          "source_hidden": false,
          "outputs_hidden": false
        },
        "nteract": {
          "transient": {
            "deleting": false
          }
        }
      }
    }
  ],
  "metadata": {
    "kernelspec": {
      "name": "synapse_pyspark",
      "language": "Python",
      "display_name": "Synapse PySpark"
    },
    "language_info": {
      "name": "python"
    },
    "kernel_info": {
      "name": "synapse_pyspark"
    },
    "save_output": true,
    "synapse_widget": {
      "version": "0.1",
      "state": {}
    }
  },
  "nbformat": 4,
  "nbformat_minor": 2
}